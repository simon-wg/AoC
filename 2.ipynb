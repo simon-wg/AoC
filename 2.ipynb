{
 "cells": [
  {
   "cell_type": "code",
   "execution_count": 4,
   "metadata": {},
   "outputs": [],
   "source": [
    "from aocd import get_data\n",
    "\n",
    "data = get_data(day=2, year=2024).splitlines()"
   ]
  },
  {
   "cell_type": "code",
   "execution_count": 5,
   "metadata": {},
   "outputs": [
    {
     "name": "stdout",
     "output_type": "stream",
     "text": [
      "564\n"
     ]
    }
   ],
   "source": [
    "# Part 1\n",
    "safe = 0\n",
    "\n",
    "for line in data:\n",
    "    numbers = list(map(int, line.split()))\n",
    "    if numbers == sorted(numbers) or numbers == sorted(numbers, reverse=True):\n",
    "        if all(\n",
    "            1 <= abs(numbers[i] - numbers[i + 1]) <= 3 for i in range(len(numbers) - 1)\n",
    "        ):\n",
    "            safe += 1\n",
    "\n",
    "\n",
    "print(safe)"
   ]
  },
  {
   "cell_type": "code",
   "execution_count": 6,
   "metadata": {},
   "outputs": [
    {
     "name": "stdout",
     "output_type": "stream",
     "text": [
      "604\n"
     ]
    }
   ],
   "source": [
    "# Part 2\n",
    "safe_part2 = 0\n",
    "\n",
    "for line in data:\n",
    "    all_numbers = []\n",
    "    numbers = list(map(int, line.split()))\n",
    "    for i in range(len(numbers)):\n",
    "        tmp = numbers.copy()\n",
    "        del tmp[i]\n",
    "        all_numbers.append(tmp)\n",
    "    for i_numbers in all_numbers:\n",
    "        if i_numbers == sorted(i_numbers) or i_numbers == sorted(\n",
    "            i_numbers, reverse=True\n",
    "        ):\n",
    "            if all(\n",
    "                1 <= abs(i_numbers[i] - i_numbers[i + 1]) <= 3\n",
    "                for i in range(len(i_numbers) - 1)\n",
    "            ):\n",
    "                safe_part2 += 1\n",
    "                break\n",
    "\n",
    "\n",
    "print(safe_part2)"
   ]
  }
 ],
 "metadata": {
  "kernelspec": {
   "display_name": "AoC-rnuh",
   "language": "python",
   "name": "python3"
  },
  "language_info": {
   "codemirror_mode": {
    "name": "ipython",
    "version": 3
   },
   "file_extension": ".py",
   "mimetype": "text/x-python",
   "name": "python",
   "nbconvert_exporter": "python",
   "pygments_lexer": "ipython3",
   "version": "3.12.7"
  }
 },
 "nbformat": 4,
 "nbformat_minor": 2
}
