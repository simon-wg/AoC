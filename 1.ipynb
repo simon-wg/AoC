{
 "cells": [
  {
   "cell_type": "code",
   "execution_count": 13,
   "metadata": {},
   "outputs": [
    {
     "name": "stdout",
     "output_type": "stream",
     "text": [
      "1189304\n",
      "24349736\n"
     ]
    }
   ],
   "source": [
    "import heapq\n",
    "from aocd import get_data\n",
    "\n",
    "task = get_data(day=1, year=2024).splitlines()\n",
    "\n",
    "lhs: list[int] = []\n",
    "rhs: list[int] = []\n",
    "\n",
    "for line in task:\n",
    "    heapq.heappush(lhs, int(line.split()[0]))\n",
    "    heapq.heappush(rhs, int(line.split()[1]))\n",
    "\n",
    "diff = 0\n",
    "\n",
    "while lhs and rhs:\n",
    "    left = heapq.heappop(lhs)\n",
    "    right = heapq.heappop(rhs)\n",
    "    diff += abs(left - right)\n",
    "\n",
    "print(diff)\n",
    "\n",
    "simil = 0\n",
    "\n",
    "for line in task:\n",
    "    heapq.heappush(lhs, int(line.split()[0]))\n",
    "    heapq.heappush(rhs, int(line.split()[1]))\n",
    "\n",
    "for num in lhs:\n",
    "    simil += num * rhs.count(num)\n",
    "\n",
    "print(simil)"
   ]
  }
 ],
 "metadata": {
  "kernelspec": {
   "display_name": "AoC-rnuh",
   "language": "python",
   "name": "python3"
  },
  "language_info": {
   "codemirror_mode": {
    "name": "ipython",
    "version": 3
   },
   "file_extension": ".py",
   "mimetype": "text/x-python",
   "name": "python",
   "nbconvert_exporter": "python",
   "pygments_lexer": "ipython3",
   "version": "3.12.7"
  }
 },
 "nbformat": 4,
 "nbformat_minor": 2
}
